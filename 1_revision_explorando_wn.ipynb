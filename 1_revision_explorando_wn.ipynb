{
 "cells": [
  {
   "cell_type": "code",
   "execution_count": null,
   "metadata": {},
   "outputs": [],
   "source": [
    "Laura Valencia Gracia"
   ]
  },
  {
   "cell_type": "markdown",
   "metadata": {},
   "source": [
    "# Revisión de programación explorando WordNet\n",
    "Objetivos: \n",
    "1.- revisar los conceptos básicos de programación en python aprendidos en el primer cuatrimestre\n",
    "2.- conocer WordNet y saber resolver consultas sencillas mediante programación en python\n",
    "\n",
    "Tiempo estimado: 2 horas\n",
    "\n",
    "Sugerencias: \n",
    "1.- repasa las prácticas realizadas en el primer cuatrimestre (práctica 1 y 5) \n",
    "2.- accede a la página de WordNet https://wordnet.princeton.edu/ para explorarla \"a alto nivel\" y comprender mejor cómo programarla a \"más bajo nivel de abstracción\""
   ]
  },
  {
   "cell_type": "markdown",
   "metadata": {},
   "source": [
    "###Paso 0. Para empezar necesitamos responder a estas tres cuestiones \n",
    "¿Qué es wordnet? \n",
    "Es una base de datos de las palabras del inglés\n",
    "\n",
    "¿Cómo está estructurado WordNet (componentes y relaciones)? (Sugerencia: haz un dibujo en papel utilizando por ejemplo, la palabra 'car')\n",
    "Está estructurado en sinónimos y los clasifica en verbos, adjetivos, nombres y adverbios\n",
    "\n",
    "¿Puedo utilizar WordNet? ¿Cómo se accede a WordNet? (Sugerencia: consultar http://www.nltk.org/howto/wordnet.html)\n",
    "Si. Es un software libre gratuito al que puede acceder todo el mundo. "
   ]
  },
  {
   "cell_type": "code",
   "execution_count": 15,
   "metadata": {},
   "outputs": [
    {
     "name": "stdout",
     "output_type": "stream",
     "text": [
      "showing info http://www.nltk.org/nltk_data/\n"
     ]
    },
    {
     "data": {
      "text/plain": [
       "True"
      ]
     },
     "execution_count": 15,
     "output_type": "execute_result",
     "metadata": {}
    }
   ],
   "source": [
    "import nltk\n",
    "nltk.download()"
   ]
  },
  {
   "cell_type": "code",
   "execution_count": 18,
   "metadata": {},
   "outputs": [],
   "source": [
    "from nltk.corpus import wordnet as wn"
   ]
  },
  {
   "cell_type": "markdown",
   "metadata": {},
   "source": [
    "###Paso 1. Obtener los significados de 'car'. Guardarlos en la variable sig_car\n",
    "Responder a las cuestiones siguientes: ¿qué método se utiliza? ¿qué estructura de datos se utiliza para agrupar los significados (salida)? ¿cómo se accede al primer significado, al segundo y al último? ¿cuántos significados tiene 'car'? ¿cómo se identifica cada synset (tipo de datos, forma)? ¿de qué tipo de datos es cada synset?\n",
    "--> Revisar qué es una lista (cómo se crea, cómo se accede, métodos y funciones)\n",
    "--> Revisar qué es una tupla (cómo se crea, cómo se accede, métodos y funciones, diferencia con listas)\n",
    "--> Revisar qué es un conjunto (cómo se crea, cómo se accede, métodos y funciones, diferencia con listas y tuplas)\n",
    "\n",
    "Se usa el métido wn.synsets que me saca los significados de la palabra. Los datos salen en forma de listas.\n",
    "Car tiene 5 significados distintos. Cada synset se identifica con el nombre del synset, la categoría gramatical y el número de definición."
   ]
  },
  {
   "cell_type": "code",
   "execution_count": 20,
   "metadata": {},
   "outputs": [
    {
     "name": "stdout",
     "output_type": "stream",
     "text": [
      "[Synset('car.n.01'), Synset('car.n.02'), Synset('car.n.03'), Synset('car.n.04'), Synset('cable_car.n.01')]\n"
     ]
    }
   ],
   "source": [
    "sig_car = wn.synsets('car')\n",
    "print sig_car"
   ]
  },
  {
   "cell_type": "markdown",
   "metadata": {},
   "source": [
    "###Paso 2. Obtener el identificador del primer significado de 'car'. Comprobar si tiene categoría nombre\n",
    "--->Revisar las instrucciones condicionales en python"
   ]
  },
  {
   "cell_type": "code",
   "execution_count": null,
   "metadata": {},
   "outputs": [],
   "source": [
    ""
   ]
  },
  {
   "cell_type": "markdown",
   "metadata": {},
   "source": [
    "###Paso 3. Exploramos dentro de un synset:\n",
    "- Obtener los lemas del primer synset. \n",
    "Responder a las cuestiones siguientes: ¿qué método(s) se utiliza(n)? ¿cuál es la estructura de datos de la salida? desde el punto de vista lingüístico, ¿qué relación une a estos lemas? \n",
    "- Obtener la definición del primer synset. ¿De qué tipo de datos es? ¿cómo se obtiene la definición en tipo de datos string?\n",
    "- Obtener los ejemplos del primer synset. ¿Cuántos ejemplos hay?"
   ]
  },
  {
   "cell_type": "code",
   "execution_count": null,
   "metadata": {},
   "outputs": [],
   "source": [
    ""
   ]
  },
  {
   "cell_type": "markdown",
   "metadata": {},
   "source": [
    "###Paso4. Construimos estructuras de datos para almacenar de forma compacta múltiples datos\n",
    "- Obtener una lista con los lemas de cada significado (synset) de 'car' (ejemplo: [['car', 'auto', automobile', 'machine', 'motorcar'], [\"siguiente grupo de lemas\"],...]\n",
    "\n",
    "Sugerencia: cuando un problema es difícil utiliza la técnica \"Divide y vencerás\"\n",
    "\n",
    "---> Revisar las instrucciones iterativas (bucles) "
   ]
  },
  {
   "cell_type": "code",
   "execution_count": null,
   "metadata": {},
   "outputs": [],
   "source": [
    ""
   ]
  },
  {
   "cell_type": "markdown",
   "metadata": {},
   "source": [
    "###Paso 5. Crear una función para obtener la lista de sinónimos para cualquier palabra\n",
    "\n",
    "---> Revisar la definición y uso de funciones"
   ]
  },
  {
   "cell_type": "code",
   "execution_count": null,
   "metadata": {},
   "outputs": [],
   "source": [
    ""
   ]
  },
  {
   "cell_type": "markdown",
   "metadata": {},
   "source": [
    "###Paso 6. Crear un diccionario\n",
    "- Crear un diccionario que almacene por cada identificador de synset (clave) una tupla con las palabas de la definición de cada synset. Por ejemplo, para la palabra 'car':  {'car.n.01':['a', 'motor', 'vehicle', 'with', 'four', 'wheels', 'usually', 'propelled', 'by', 'an', 'internal', 'combustion', 'engine'], 'car.n.02': [...], ...}\n",
    "Esta representación de los conceptos mediantes vectores de palabras es un tipo de representación semántica muy útil para comparar lo cercanos (similitud) que pueden ser dos conceptos.\n",
    "---> Revisar diccionarios"
   ]
  },
  {
   "cell_type": "code",
   "execution_count": null,
   "metadata": {},
   "outputs": [],
   "source": [
    ""
   ]
  },
  {
   "cell_type": "markdown",
   "metadata": {},
   "source": [
    "###Paso 7. Crear una tabla con la información de cada synset de wn: synset, categoría, sinónimos, definición y ejemplos"
   ]
  },
  {
   "cell_type": "code",
   "execution_count": null,
   "metadata": {},
   "outputs": [],
   "source": [
    ""
   ]
  },
  {
   "cell_type": "markdown",
   "metadata": {},
   "source": [
    "###Paso 8. Volcar los resultados en un archivo para poder utilizarlos en otros programas \n",
    "---> Lectura y escritura de datos en archivos"
   ]
  },
  {
   "cell_type": "code",
   "execution_count": null,
   "metadata": {},
   "outputs": [],
   "source": [
    ""
   ]
  },
  {
   "cell_type": "markdown",
   "metadata": {},
   "source": [
    "## Fin de la exploración y recordatorio de programación"
   ]
  }
 ],
 "metadata": {
  "kernelspec": {
   "display_name": "Python 2",
   "language": "python",
   "name": "python2"
  },
  "language_info": {
   "codemirror_mode": {
    "name": "ipython",
    "version": 2.0
   },
   "file_extension": ".py",
   "mimetype": "text/x-python",
   "name": "python",
   "nbconvert_exporter": "python",
   "pygments_lexer": "ipython2",
   "version": "2.7.10"
  }
 },
 "nbformat": 4,
 "nbformat_minor": 0
}